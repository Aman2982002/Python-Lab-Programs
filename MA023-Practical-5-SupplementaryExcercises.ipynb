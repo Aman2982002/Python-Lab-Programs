{
 "cells": [
  {
   "cell_type": "markdown",
   "metadata": {},
   "source": [
    " 1.Create a recursive function calcFactorial() to compute factorial of a parameter. Using the calcFactorial(), display factorial of only numeric command line variable number of arguments."
   ]
  },
  {
   "cell_type": "code",
   "execution_count": 25,
   "metadata": {},
   "outputs": [
    {
     "name": "stdout",
     "output_type": "stream",
     "text": [
      "Factorial of 3 : 6\n",
      "Factorial of 5 : 120\n",
      "enter only numeric arguments\n"
     ]
    }
   ],
   "source": [
    "import sys\n",
    "def calcFactorial(n):\n",
    "    if n==0 or n==1:\n",
    "        return 1\n",
    "    else :\n",
    "        return n * calcFactorial(n-1)\n",
    "    \n",
    "#args = [arg for arg in sys.argv[1:] if arg.isdigit()]\n",
    "args = [\"3\", \"5\", \"7\"]\n",
    "for arg in args:\n",
    "    if arg.isdigit():\n",
    "     num=int(arg)\n",
    "     factorial=calcFactorial(num)\n",
    "     print(\"Factorial of\", num, \":\", factorial)\n",
    "    else:\n",
    "        print(\"enter only numeric arguments\")\n"
   ]
  },
  {
   "cell_type": "markdown",
   "metadata": {},
   "source": [
    "2.Create functions add(), subtract(), multiply(), divide(), power() - each of them should accepct two number parameters and return appropriate answer as per the name of respective funtion. Create a function calculate() which should accpet three parameters: 'operand1', 'operand2', and 'operator'. Based on the value of the formal parameter 'operator' (+,-,*,/,^), the function calculate() should invoke relevant function from: add(), subtract(), etc. Demonstrate usage of: positional arguments, keyword arguments and default arguments."
   ]
  },
  {
   "cell_type": "code",
   "execution_count": 1,
   "metadata": {},
   "outputs": [
    {
     "name": "stdout",
     "output_type": "stream",
     "text": [
      "enter n1:10\n",
      "enter n2:20\n",
      "enter any operator like +,-,*,/,^:/\n",
      "Result =  0.5\n"
     ]
    }
   ],
   "source": [
    "def add(n1,n2):\n",
    "    return n1+n2\n",
    "\n",
    "def subtract(n1,n2):\n",
    "    return n1-n2\n",
    "\n",
    "def multiply(n1,n2):\n",
    "    return n1*n2\n",
    "\n",
    "def divide(n1,n2):\n",
    "    return n1/n2\n",
    "\n",
    "def power(n1,n2):\n",
    "    return n1 ** n2\n",
    "n1=float(input(\"enter n1:\"))\n",
    "n2=float(input(\"enter n2:\"))\n",
    "operator=input(\"enter any operator like +,-,*,/,^:\")\n",
    "\n",
    "def calculate(operand1, operand2, operator):\n",
    "    if operator == \"+\":\n",
    "        return add(operand1, operand2)\n",
    "    elif operator == \"-\":\n",
    "        return subtract(operand1, operand2)\n",
    "    elif operator == \"*\":\n",
    "        return multiply(operand1, operand2)\n",
    "    elif operator == \"/\":\n",
    "        return divide(operand1, operand2)\n",
    "    elif operator == \"^\":\n",
    "        return power(operand1, operand2)\n",
    "    else:\n",
    "        print(\"Invalid operator\")\n",
    "\n",
    "result = calculate(n1,n2,operator)\n",
    "print(\"Result = \",result)"
   ]
  },
  {
   "cell_type": "markdown",
   "metadata": {},
   "source": [
    "<li>3.Create following string manipulation functions without using inbuilt functions:\n",
    "        <ul>\n",
    "            <li> toLowerCase(str): returns the parameter str in lower case\n",
    "            <li> toUpperCase(str): returns the parameter str in upper case\n",
    "            <li> toInitCap(str): returns the parameter str in sentence case\n",
    "            <li> strlen(str): returns length of the parameter str\n",
    "            <li> reverse(str): returns reverse of the paraeter str\n",
    "            <li> countVowelsFrequencies(str): returns frequency of each vowel in the parameter str\n",
    "            <li> search(str,substr): return index of first occurence of substr in str\n",
    "            <li> searchMultiple(str,substr): return indices of each occurence of substr in str\n",
    "            <li> remove(str,substr): remove first occurence of substr from str; return the resultant object\n",
    "            <li> removeMultiple(str,substr): remove all occurences of substr from str; return the resultant object\n",
    "        </ul>"
   ]
  },
  {
   "cell_type": "code",
   "execution_count": 2,
   "metadata": {},
   "outputs": [
    {
     "name": "stdout",
     "output_type": "stream",
     "text": [
      "Original String: Hello This is an example of String,thank you,bye\n",
      "toLowerCase: hello this is an example of string,thank you,bye\n",
      "toUpperCase: HELLO THIS IS AN EXAMPLE OF STRING,THANK YOU,BYE\n",
      "toInitCap: HEllo THis Is An Example Of STring,thank You,bye\n",
      "strlen: 48\n",
      "reverse: eyb,uoy knaht,gnirtS fo elpmaxe na si sihT olleH\n",
      "countVowelsFrequencies: {'e': 4, 'o': 3, 'i': 3, 'a': 3, 'u': 1}\n",
      "search (\"example\"):  17\n",
      "searchMultiple (\"example\"):  [17]\n",
      "remove (\"example\"):  Hello This is an  of String,thank you,bye\n",
      "removeMultiple (\"example\"):  Hello This is an  of String,thank you,bye\n"
     ]
    }
   ],
   "source": [
    "def toLowerCase(s):\n",
    "    result = ''\n",
    "    for char in s:\n",
    "        if 'A' <= char <= 'Z':\n",
    "            result += chr(ord(char) + 32)\n",
    "        else:\n",
    "            result += char\n",
    "    return result\n",
    "\n",
    "def toUpperCase(s):\n",
    "    result = ''\n",
    "    for char in s:\n",
    "        if 'a' <= char <= 'z':\n",
    "            result += chr(ord(char) - 32)\n",
    "        else:\n",
    "            result += char\n",
    "    return result\n",
    "\n",
    "def toInitCap(s):\n",
    "    result = ''\n",
    "    capitalize_next = True\n",
    "    for char in s:\n",
    "        if capitalize_next and 'a' <= char <= 'z':\n",
    "            result += chr(ord(char) - 32)\n",
    "            capitalize_next = False\n",
    "        else:\n",
    "            result += char\n",
    "        if char == ' ':\n",
    "            capitalize_next = True\n",
    "    return result\n",
    "\n",
    "def strlen(s):\n",
    "    length = 0\n",
    "    for _ in s:\n",
    "        length += 1\n",
    "    return length\n",
    "\n",
    "def reverse(s):\n",
    "    return s[::-1]\n",
    "\n",
    "def countVowelsFrequencies(s):\n",
    "    vowels = 'aeiou'\n",
    "    frequencies = {}\n",
    "    for char in s:\n",
    "        lower_char = char.lower()\n",
    "        if lower_char in vowels:\n",
    "            if lower_char in frequencies:\n",
    "                frequencies[lower_char] += 1\n",
    "            else:\n",
    "                frequencies[lower_char] = 1\n",
    "    return frequencies\n",
    "\n",
    "def search(s, substr):\n",
    "    for i in range(len(s) - len(substr) + 1):\n",
    "        if s[i:i+len(substr)] == substr:\n",
    "            return i\n",
    "    return -1\n",
    "\n",
    "def searchMultiple(s, substr):\n",
    "    indices = []\n",
    "    for i in range(len(s) - len(substr) + 1):\n",
    "        if s[i:i+len(substr)] == substr:\n",
    "            indices.append(i)\n",
    "    return indices\n",
    "\n",
    "def remove(s, substr):\n",
    "    index = search(s, substr)\n",
    "    if index == -1:\n",
    "        return s\n",
    "    return s[:index] + s[index+len(substr):]\n",
    "\n",
    "def removeMultiple(s, substr):\n",
    "    while substr in s:\n",
    "        s = remove(s, substr)\n",
    "    return s\n",
    "\n",
    "# Test the functions\n",
    "input_str = \"Hello This is an example of String,thank you,bye\"\n",
    "print(\"Original String:\", input_str)\n",
    "print(\"toLowerCase:\", toLowerCase(input_str))\n",
    "print(\"toUpperCase:\", toUpperCase(input_str))\n",
    "print(\"toInitCap:\", toInitCap(input_str))\n",
    "print(\"strlen:\", strlen(input_str))\n",
    "print(\"reverse:\", reverse(input_str))\n",
    "print(\"countVowelsFrequencies:\", countVowelsFrequencies(input_str))\n",
    "print(\"search (\\\"example\\\"): \", search(input_str, \"example\"))\n",
    "print(\"searchMultiple (\\\"example\\\"): \", searchMultiple(input_str, \"example\"))\n",
    "print(\"remove (\\\"example\\\"): \", remove(input_str, \"example\"))\n",
    "print(\"removeMultiple (\\\"example\\\"): \", removeMultiple(input_str, \"example\"))\n"
   ]
  },
  {
   "cell_type": "markdown",
   "metadata": {},
   "source": [
    "<li> 4.Create the following functionality:\n",
    "        <ul>\n",
    "            <li> Create a function dynamicFilter() such that\n",
    "            <li> It should be capable to accept an unknown number of parameters\n",
    "            <li> It should return the parameters in various groups based on the type of parameters; \n",
    "e.g.: integers, floats, strings =dynamicFilter(-1,\"create\",7,\"work\",-9.7,9,...)  \n",
    "        </ul>"
   ]
  },
  {
   "cell_type": "code",
   "execution_count": 3,
   "metadata": {},
   "outputs": [
    {
     "name": "stdout",
     "output_type": "stream",
     "text": [
      "{'integers': [-1, 7, 9], 'floats': [-9.7, 3.14], 'strings': ['create', 'work', 'programming']}\n"
     ]
    }
   ],
   "source": [
    "def dynamicFilter(*args):\n",
    "    result = {\n",
    "        'integers': [],\n",
    "        'floats': [],\n",
    "        'strings': []\n",
    "    }\n",
    "    \n",
    "    for arg in args:\n",
    "        if isinstance(arg, int):\n",
    "            result['integers'].append(arg)\n",
    "        elif isinstance(arg, float):\n",
    "            result['floats'].append(arg)\n",
    "        elif isinstance(arg, str):\n",
    "            result['strings'].append(arg)\n",
    "    \n",
    "    return result\n",
    "\n",
    "output = dynamicFilter(-1, \"create\", 7, \"work\", -9.7, 9, 3.14, \"programming\")\n",
    "print(output)"
   ]
  },
  {
   "cell_type": "markdown",
   "metadata": {},
   "source": [
    " 5.<li> Develop appropriate functions to implement following functionality without using inbuilt functions:\n",
    "        <ul> \n",
    "            <li> reverseInt(int): returns reverse of the parameter int\n",
    "            <li> upperCeil(int): return upper ceiling int of the parameter int\n",
    "            <li> bottomCeil(int): return bottom ceiling int of the parameter int\n",
    "            <li> round(int,n): return the parameter int rounded to n positions\n",
    "        </ul>\n",
    "    "
   ]
  },
  {
   "cell_type": "code",
   "execution_count": 8,
   "metadata": {},
   "outputs": [
    {
     "name": "stdout",
     "output_type": "stream",
     "text": [
      "Original number: 54321\n",
      "Reversed number: 12345\n",
      "Upper Ceiling: 54321\n",
      "Bottom Ceiling: 54321\n",
      "Rounded to 2 positions: 54321.0\n"
     ]
    }
   ],
   "source": [
    "def reverseInt(num):\n",
    "    reversed_num = 0\n",
    "    while num > 0:\n",
    "        digit = num % 10\n",
    "        reversed_num = reversed_num * 10 + digit\n",
    "        num = num // 10\n",
    "    return reversed_num\n",
    "\n",
    "def upperCeil(num):\n",
    "    if num % 1 == 0:\n",
    "        return num\n",
    "    return int(num) + 1\n",
    "\n",
    "def bottomCeil(num):\n",
    "    if num % 1 == 0:\n",
    "        return num\n",
    "    return int(num)\n",
    "\n",
    "def roundN(num, n):\n",
    "    multiplier = 10 ** n\n",
    "    return int(num * multiplier + 0.5) / multiplier\n",
    "\n",
    "num = 54321\n",
    "print(\"Original number:\", num)\n",
    "print(\"Reversed number:\", reverseInt(num))\n",
    "print(\"Upper Ceiling:\", upperCeil(num))\n",
    "print(\"Bottom Ceiling:\", bottomCeil(num))\n",
    "print(\"Rounded to 2 positions:\", roundN(num, 2))"
   ]
  },
  {
   "cell_type": "markdown",
   "metadata": {},
   "source": [
    "6. How to use map(), reduce() and lambda? Give at least four examples of each."
   ]
  },
  {
   "cell_type": "code",
   "execution_count": 10,
   "metadata": {},
   "outputs": [
    {
     "name": "stdout",
     "output_type": "stream",
     "text": [
      "[2, 4, 6, 8, 10]\n"
     ]
    }
   ],
   "source": [
    "numbers = [1, 2, 3, 4, 5]\n",
    "doubled_numbers = list(map(lambda x: x * 2, numbers))\n",
    "print(doubled_numbers)"
   ]
  },
  {
   "cell_type": "code",
   "execution_count": 11,
   "metadata": {},
   "outputs": [
    {
     "name": "stdout",
     "output_type": "stream",
     "text": [
      "['AMAN', 'KAUSHAL', 'ANUJ']\n"
     ]
    }
   ],
   "source": [
    "names = [\"Aman\", \"Kaushal\", \"Anuj\"]\n",
    "upper_names = list(map(lambda name: name.upper(), names))\n",
    "print(upper_names)"
   ]
  },
  {
   "cell_type": "code",
   "execution_count": 12,
   "metadata": {},
   "outputs": [
    {
     "name": "stdout",
     "output_type": "stream",
     "text": [
      "[1, 4, 9, 16, 25]\n"
     ]
    }
   ],
   "source": [
    "numbers = [1, 2, 3, 4, 5]\n",
    "squares = list(map(lambda x: x ** 2, numbers))\n",
    "print(squares)  # Output: [1, 4, 9, 16, 25]"
   ]
  },
  {
   "cell_type": "code",
   "execution_count": 13,
   "metadata": {},
   "outputs": [
    {
     "name": "stdout",
     "output_type": "stream",
     "text": [
      "[5, 6, 6]\n"
     ]
    }
   ],
   "source": [
    "words = [\"apple\", \"banana\", \"cherry\"]\n",
    "lengths = list(map(lambda word: len(word), words))\n",
    "print(lengths)"
   ]
  },
  {
   "cell_type": "code",
   "execution_count": 14,
   "metadata": {},
   "outputs": [
    {
     "name": "stdout",
     "output_type": "stream",
     "text": [
      "120\n"
     ]
    }
   ],
   "source": [
    "from functools import reduce\n",
    "\n",
    "numbers = [1, 2, 3, 4, 5]\n",
    "product = reduce(lambda x, y: x * y, numbers)\n",
    "print(product)"
   ]
  },
  {
   "cell_type": "code",
   "execution_count": 15,
   "metadata": {},
   "outputs": [
    {
     "name": "stdout",
     "output_type": "stream",
     "text": [
      "Hello world!\n"
     ]
    }
   ],
   "source": [
    "words = [\"Hello\", \" \", \"world\", \"!\"]\n",
    "sentence = reduce(lambda x, y: x + y, words)\n",
    "print(sentence)"
   ]
  },
  {
   "cell_type": "code",
   "execution_count": 16,
   "metadata": {},
   "outputs": [
    {
     "name": "stdout",
     "output_type": "stream",
     "text": [
      "20\n"
     ]
    }
   ],
   "source": [
    "numbers = [10, 5, 8, 20, 15]\n",
    "max_number = reduce(lambda x, y: x if x > y else y, numbers)\n",
    "print(max_number)  "
   ]
  },
  {
   "cell_type": "code",
   "execution_count": 17,
   "metadata": {},
   "outputs": [
    {
     "name": "stdout",
     "output_type": "stream",
     "text": [
      "15\n"
     ]
    }
   ],
   "source": [
    "numbers = [1, 2, 3, 4, 5]\n",
    "sum_numbers = reduce(lambda x, y: x + y, numbers)\n",
    "print(sum_numbers)"
   ]
  },
  {
   "cell_type": "markdown",
   "metadata": {},
   "source": [
    "7.Create a Python program to find the number of occurences of each letter in a string."
   ]
  },
  {
   "cell_type": "code",
   "execution_count": 18,
   "metadata": {},
   "outputs": [
    {
     "name": "stdout",
     "output_type": "stream",
     "text": [
      "Enter a string: This is a String\n",
      "t 2\n",
      "h 1\n",
      "i 3\n",
      "s 3\n",
      "a 1\n",
      "r 1\n",
      "n 1\n",
      "g 1\n"
     ]
    }
   ],
   "source": [
    "def count_letter_occurrences(input_string):\n",
    "    input_string = input_string.lower()\n",
    "    letter_counts = {}\n",
    "    for char in input_string:\n",
    "        if char.isalpha():\n",
    "            if char in letter_counts:\n",
    "                letter_counts[char] += 1\n",
    "            else:\n",
    "                letter_counts[char] = 1\n",
    "    return letter_counts\n",
    "\n",
    "input_string = input(\"Enter a string: \")\n",
    "result = count_letter_occurrences(input_string)\n",
    "\n",
    "for letter, count in result.items():\n",
    "    print(letter, count)"
   ]
  }
 ],
 "metadata": {
  "kernelspec": {
   "display_name": "Python 3 (ipykernel)",
   "language": "python",
   "name": "python3"
  },
  "language_info": {
   "codemirror_mode": {
    "name": "ipython",
    "version": 3
   },
   "file_extension": ".py",
   "mimetype": "text/x-python",
   "name": "python",
   "nbconvert_exporter": "python",
   "pygments_lexer": "ipython3",
   "version": "3.10.9"
  }
 },
 "nbformat": 4,
 "nbformat_minor": 2
}
