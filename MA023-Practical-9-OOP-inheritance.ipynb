{
 "cells": [
  {
   "cell_type": "markdown",
   "id": "bda4cd65",
   "metadata": {},
   "source": [
    "#### 1. What is difference between instance method and class method? Which type of method should be used when? How to create and use them. Explain using example."
   ]
  },
  {
   "cell_type": "code",
   "execution_count": 1,
   "id": "368e2314",
   "metadata": {},
   "outputs": [
    {
     "name": "stdout",
     "output_type": "stream",
     "text": [
      "Buddy barks!\n",
      "Charlie barks!\n",
      "Total cars: 2\n"
     ]
    }
   ],
   "source": [
    "class Dog:\n",
    "    def __init__(self, name):\n",
    "        self.name = name\n",
    "\n",
    "    def bark(self):\n",
    "        print(self.name,\"barks!\")\n",
    "\n",
    "# Creating instances of the Dog class\n",
    "dog1 = Dog(\"Buddy\")\n",
    "dog2 = Dog(\"Charlie\")\n",
    "\n",
    "# Calling an instance method\n",
    "dog1.bark()  # Output: \"Buddy barks!\"\n",
    "dog2.bark()  # Output: \"Charlie barks!\"\n",
    "\n",
    "##class method\n",
    "class Car:\n",
    "    total_cars = 0  # Class-level attribute\n",
    "\n",
    "    def __init__(self, make, model):\n",
    "        self.make = make\n",
    "        self.model = model\n",
    "        Car.total_cars += 1\n",
    "\n",
    "    @classmethod\n",
    "    def display_total_cars(cls):\n",
    "        print(\"Total cars:\",cls.total_cars)\n",
    "\n",
    "# Creating instances of the Car class\n",
    "car1 = Car(\"Toyota\", \"Camry\")\n",
    "car2 = Car(\"Honda\", \"Civic\")\n",
    "\n",
    "# Calling a class method to display the total number of cars\n",
    "Car.display_total_cars()  # Output: \"Total cars: 2\""
   ]
  },
  {
   "cell_type": "markdown",
   "id": "71e415d1",
   "metadata": {},
   "source": [
    "#### 2. What is difference between static method and class method? Which type of method should be used when? How to create and use them. Explain using example."
   ]
  },
  {
   "cell_type": "code",
   "execution_count": 2,
   "id": "da977fcb",
   "metadata": {},
   "outputs": [
    {
     "name": "stdout",
     "output_type": "stream",
     "text": [
      "8\n",
      "24\n",
      "Total cars: 2\n"
     ]
    }
   ],
   "source": [
    "##static method\n",
    "class MathOperations:\n",
    "    @staticmethod\n",
    "    def add(x, y):\n",
    "        return x + y\n",
    "\n",
    "    @staticmethod\n",
    "    def multiply(x, y):\n",
    "        return x * y\n",
    "\n",
    "# Calling static methods without creating instances\n",
    "result1 = MathOperations.add(5, 3)  # Output: 8\n",
    "result2 = MathOperations.multiply(4, 6)  # Output: 24\n",
    "print(result1)\n",
    "print(result2)\n",
    "\n",
    "##class method\n",
    "class Car:\n",
    "    total_cars = 0  # Class-level attribute\n",
    "\n",
    "    def __init__(self, make, model):\n",
    "        self.make = make\n",
    "        self.model = model\n",
    "        Car.total_cars += 1\n",
    "\n",
    "    @classmethod\n",
    "    def display_total_cars(cls):\n",
    "        print(\"Total cars:\",cls.total_cars)\n",
    "\n",
    "# Creating instances of the Car class\n",
    "car1 = Car(\"Toyota\", \"Camry\")\n",
    "car2 = Car(\"Honda\", \"Civic\")\n",
    "\n",
    "# Calling a class method to display the total number of cars\n",
    "Car.display_total_cars()  # Output: \"Total cars: 2\""
   ]
  },
  {
   "cell_type": "markdown",
   "id": "54c57669",
   "metadata": {},
   "source": [
    "#### 3. Is it possible to overload constructors in python?"
   ]
  },
  {
   "cell_type": "code",
   "execution_count": 11,
   "id": "f2298daf",
   "metadata": {},
   "outputs": [
    {
     "name": "stdout",
     "output_type": "stream",
     "text": [
      "Name is:  Aman\n",
      "Age is:  21\n"
     ]
    }
   ],
   "source": [
    "class demo:\n",
    "    def __init__(self,name):\n",
    "        self.name = name\n",
    "        print(\"Name is: \",self.name)\n",
    "    ##\n",
    "    def __init__(self,name,age):\n",
    "        self.name = name\n",
    "        self.age = age\n",
    "        print(\"Name is: \",self.name)\n",
    "        print(\"Age is: \",self.age)\n",
    "    ##\n",
    "##\n",
    "#d = demo(\"Aman\")##will generate error that one parameter is missing\n",
    "d1 = demo(\"Aman\",21)"
   ]
  },
  {
   "cell_type": "markdown",
   "id": "d66b24e0",
   "metadata": {},
   "source": [
    "#### 4. Is it possible to override methods in python? If yes, explain how. If no, explain why."
   ]
  },
  {
   "cell_type": "code",
   "execution_count": 5,
   "id": "97f5e733",
   "metadata": {},
   "outputs": [
    {
     "name": "stdout",
     "output_type": "stream",
     "text": [
      "Hello i am a car and i have 4 wheels\n",
      "Hello i am a bmw x4 car and i have 4 wheels\n",
      "Hello i am a audi a3 car and i have 4 wheels\n"
     ]
    }
   ],
   "source": [
    " class car:\n",
    "    def model(self):\n",
    "        print(\"Hello i am a car and i have 4 wheels\")\n",
    "    ##\n",
    "##\n",
    "\n",
    "class BMW(car):\n",
    "    def model(self):\n",
    "        print(\"Hello i am a bmw x4 car and i have 4 wheels\")\n",
    "    ##\n",
    "##\n",
    "\n",
    "class audi(car):\n",
    "    def model(self):\n",
    "        print(\"Hello i am a audi a3 car and i have 4 wheels\")\n",
    "    ##\n",
    "##\n",
    "\n",
    "car1 = car()\n",
    "b1 = BMW()\n",
    "a1 = audi()\n",
    "\n",
    "car1.model()\n",
    "b1.model()\n",
    "a1.model()"
   ]
  },
  {
   "cell_type": "markdown",
   "id": "4441b9e8",
   "metadata": {},
   "source": [
    "#### 5. Using suitable examples of your choice (other than those which had been discussed in the class), explain creation and usage of class method, class variable and static method."
   ]
  },
  {
   "cell_type": "code",
   "execution_count": 6,
   "id": "d2406aba",
   "metadata": {},
   "outputs": [
    {
     "name": "stdout",
     "output_type": "stream",
     "text": [
      "We have 1 Car\n",
      "Car name is BMW\n"
     ]
    }
   ],
   "source": [
    "class car:\n",
    "    total_Cars = 1\n",
    "    \n",
    "    @classmethod\n",
    "    def cardetails(cls):\n",
    "        print(\"We have\",cls.total_Cars,\"Car\")\n",
    "    ##\n",
    "    \n",
    "    @staticmethod\n",
    "    def carname(name):\n",
    "        print(\"Car name is\",name)\n",
    "    ##\n",
    "##\n",
    "\n",
    "c1 = car()\n",
    "car.cardetails()\n",
    "car.carname(\"BMW\")"
   ]
  },
  {
   "cell_type": "markdown",
   "id": "17cb51e6",
   "metadata": {},
   "source": [
    "#### 6. How to use inheritance for implementing various types of bankaccount classes? Draw class relationship & explain using detailed practical example. Implement necessary constructors in the base and all derived classes. Show how to invoke base class constructor from derived class. Implement necessary getter & setter methods on all parent & children classes. Implement necessary methods for computing simple interest or any other such interests. Show how to use these classes."
   ]
  },
  {
   "cell_type": "code",
   "execution_count": 10,
   "id": "f809c481",
   "metadata": {},
   "outputs": [
    {
     "name": "stdout",
     "output_type": "stream",
     "text": [
      "Account Balance:  1500.0\n",
      "Your balance is in negative\n",
      "Account Balance:  -200.0\n",
      "Savings Account Interest: 45.0\n"
     ]
    }
   ],
   "source": [
    "class BankAccount:\n",
    "    def __init__(self, account_number, account_holder, balance=0.0):\n",
    "        self.account_number = account_number\n",
    "        self.account_holder = account_holder\n",
    "        self.balance = balance\n",
    "\n",
    "    def deposit(self, amount):\n",
    "        if amount > 0:\n",
    "            self.balance += amount\n",
    "        else:\n",
    "            print(\"Invalid deposit amount\")\n",
    "\n",
    "    def withdraw(self, amount):\n",
    "        if amount <= self.balance:\n",
    "            self.balance -= amount\n",
    "        else:\n",
    "            print(\"Invalid withdrawal amount or insufficient balance\")\n",
    "\n",
    "    def compute_interest(self):\n",
    "        # Default interest calculation (0% interest)\n",
    "        \n",
    "        return 0.0\n",
    "\n",
    "    def display_balance(self):\n",
    "        if(self.balance < 0):\n",
    "            print(\"Your balance is in negative\")\n",
    "            print(\"Account Balance: \",self.balance)\n",
    "        else:\n",
    "            print(\"Account Balance: \",self.balance)\n",
    "\n",
    "\n",
    "class SavingsAccount(BankAccount):\n",
    "    def __init__(self, account_number, account_holder, balance=0.0, interest_rate=0.02):\n",
    "        super().__init__(account_number, account_holder, balance)\n",
    "        self.interest_rate = interest_rate\n",
    "\n",
    "    def compute_interest(self):\n",
    "        return self.balance * self.interest_rate\n",
    "\n",
    "\n",
    "class CurrentAccount(BankAccount):\n",
    "    def __init__(self, account_number, account_holder, balance=0.0, overdraft_limit=100.0):\n",
    "        super().__init__(account_number, account_holder, balance)\n",
    "        self.overdraft_limit = overdraft_limit\n",
    "\n",
    "    def withdraw(self, amount):\n",
    "        if amount <= self.balance + self.overdraft_limit:\n",
    "            self.balance -= amount\n",
    "        else:\n",
    "            print(\"Invalid withdrawal amount or overdraft limit exceeded\")\n",
    "\n",
    "    def compute_interest(self):\n",
    "        # Checking accounts don't earn interest\n",
    "        return 0.0\n",
    "\n",
    "\n",
    "# Example usage:\n",
    "savings_acct = SavingsAccount(\"SA12345\", \"Aman\", 1000.0, 0.03)\n",
    "current_acct = CurrentAccount(\"CA67890\", \"Aman\", 500.0, 200.0)\n",
    "\n",
    "savings_acct.deposit(500)\n",
    "current_acct.withdraw(700)\n",
    "\n",
    "savings_acct.display_balance()\n",
    "current_acct.display_balance()\n",
    "\n",
    "savings_interest = savings_acct.compute_interest()\n",
    "print(\"Savings Account Interest:\",savings_interest)"
   ]
  },
  {
   "cell_type": "markdown",
   "id": "8e050709",
   "metadata": {},
   "source": [
    "#### 7. How to create and user interface in Python?"
   ]
  },
  {
   "cell_type": "code",
   "execution_count": 8,
   "id": "4e7f685d",
   "metadata": {},
   "outputs": [
    {
     "name": "stdout",
     "output_type": "stream",
     "text": [
      "A Dog Barks\n",
      "A Cat meows\n"
     ]
    }
   ],
   "source": [
    "from abc import ABC,abstractmethod\n",
    "\n",
    "class Animal(ABC):\n",
    "    def sound(self):\n",
    "        pass\n",
    "    ##\n",
    "##\n",
    "\n",
    "class Dog(Animal):\n",
    "    def sound(self):\n",
    "        print(\"A Dog Barks\")\n",
    "    ##\n",
    "##\n",
    "\n",
    "class Cat(Animal):\n",
    "    def sound(self):\n",
    "        print(\"A Cat meows\")\n",
    "    ##\n",
    "##\n",
    "\n",
    "tyson = Dog()\n",
    "tyson.sound()\n",
    "\n",
    "mau = Cat()\n",
    "mau.sound()"
   ]
  }
 ],
 "metadata": {
  "kernelspec": {
   "display_name": "Python 3 (ipykernel)",
   "language": "python",
   "name": "python3"
  },
  "language_info": {
   "codemirror_mode": {
    "name": "ipython",
    "version": 3
   },
   "file_extension": ".py",
   "mimetype": "text/x-python",
   "name": "python",
   "nbconvert_exporter": "python",
   "pygments_lexer": "ipython3",
   "version": "3.10.9"
  }
 },
 "nbformat": 4,
 "nbformat_minor": 5
}
