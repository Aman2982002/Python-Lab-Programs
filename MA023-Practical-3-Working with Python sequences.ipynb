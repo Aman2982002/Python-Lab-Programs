{
 "cells": [
  {
   "cell_type": "markdown",
   "id": "14aed48a",
   "metadata": {},
   "source": [
    "<h2>Exercise-3-a</h2>"
   ]
  },
  {
   "cell_type": "markdown",
   "id": "f9245a9f",
   "metadata": {},
   "source": [
    "<h4>1. Remove duplicate list items.</h4>"
   ]
  },
  {
   "cell_type": "code",
   "execution_count": 6,
   "id": "07f858cc",
   "metadata": {},
   "outputs": [
    {
     "name": "stdout",
     "output_type": "stream",
     "text": [
      "[1, 2, 3, 4]\n"
     ]
    }
   ],
   "source": [
    "lst = [1,2,3,4,1,2,3,4]\n",
    "lst = list(set(lst))\n",
    "print(lst)"
   ]
  },
  {
   "cell_type": "markdown",
   "id": "d318af0d",
   "metadata": {},
   "source": [
    "<h4>2.Store reverse of each list member in another list at same position.</h4>"
   ]
  },
  {
   "cell_type": "code",
   "execution_count": 43,
   "id": "103604b7",
   "metadata": {},
   "outputs": [
    {
     "name": "stdout",
     "output_type": "stream",
     "text": [
      "['elppa', 'ananab', 'yrrehc']\n"
     ]
    }
   ],
   "source": [
    "original_list = [\"apple\", \"banana\", \"cherry\"]\n",
    "\n",
    "reversed_list = [item[::-1] for item in original_list]\n",
    "\n",
    "print(reversed_list)"
   ]
  },
  {
   "cell_type": "markdown",
   "id": "a81d1fa8",
   "metadata": {},
   "source": [
    "<h4>3.Take a sentence as input from user. Break it into words, store words in a list. Sort list according to length of string members.</h4>"
   ]
  },
  {
   "cell_type": "code",
   "execution_count": 8,
   "id": "0c275284",
   "metadata": {},
   "outputs": [
    {
     "name": "stdout",
     "output_type": "stream",
     "text": [
      "Enter a sentance : hello wo rld t his is te st\n",
      "['t', 'wo', 'is', 'te', 'st', 'rld', 'his', 'hello']\n"
     ]
    }
   ],
   "source": [
    "str = input(\"Enter a sentance : \")\n",
    "lst = str.split()\n",
    "lst.sort(key=len)\n",
    "print(lst)"
   ]
  },
  {
   "cell_type": "markdown",
   "id": "b706ce07",
   "metadata": {},
   "source": [
    "<h4>4.Create a list which contains integers from -100 to 1 as list items.</h4>"
   ]
  },
  {
   "cell_type": "code",
   "execution_count": 10,
   "id": "b37a8471",
   "metadata": {},
   "outputs": [
    {
     "name": "stdout",
     "output_type": "stream",
     "text": [
      "[-100, -99, -98, -97, -96, -95, -94, -93, -92, -91, -90, -89, -88, -87, -86, -85, -84, -83, -82, -81, -80, -79, -78, -77, -76, -75, -74, -73, -72, -71, -70, -69, -68, -67, -66, -65, -64, -63, -62, -61, -60, -59, -58, -57, -56, -55, -54, -53, -52, -51, -50, -49, -48, -47, -46, -45, -44, -43, -42, -41, -40, -39, -38, -37, -36, -35, -34, -33, -32, -31, -30, -29, -28, -27, -26, -25, -24, -23, -22, -21, -20, -19, -18, -17, -16, -15, -14, -13, -12, -11, -10, -9, -8, -7, -6, -5, -4, -3, -2, -1, 0, 1]\n"
     ]
    }
   ],
   "source": [
    "lst = list(range(-100,2))\n",
    "print(lst)"
   ]
  },
  {
   "cell_type": "markdown",
   "id": "4dee9aef",
   "metadata": {},
   "source": [
    "<h4>5.Create a list which contains all even integers between 1 and 10 as list items.</h4>"
   ]
  },
  {
   "cell_type": "code",
   "execution_count": 11,
   "id": "211caaad",
   "metadata": {},
   "outputs": [
    {
     "name": "stdout",
     "output_type": "stream",
     "text": [
      "[2, 4, 6, 8, 10]\n"
     ]
    }
   ],
   "source": [
    "lst = list(range(2,11,2))\n",
    "print(lst)"
   ]
  },
  {
   "cell_type": "markdown",
   "id": "f4ed38ab",
   "metadata": {},
   "source": [
    "<h4>6.Create a list which contains all consonent-alphabets between 'A' and 'Z' as list items.</h4>"
   ]
  },
  {
   "cell_type": "code",
   "execution_count": 12,
   "id": "6cde6ff3",
   "metadata": {},
   "outputs": [
    {
     "name": "stdout",
     "output_type": "stream",
     "text": [
      "['B', 'C', 'D', 'F', 'G', 'H', 'J', 'K', 'L', 'M', 'N', 'P', 'Q', 'R', 'S', 'T', 'V', 'W', 'X', 'Y']\n"
     ]
    }
   ],
   "source": [
    "lst = []\n",
    "vowel = \"AEIOU\"\n",
    "for i in range(ord('A'),ord('Z')):\n",
    "    if chr(i) not in vowel:\n",
    "        lst.append(chr(i))\n",
    "        \n",
    "print(lst)"
   ]
  },
  {
   "cell_type": "markdown",
   "id": "08dad276",
   "metadata": {},
   "source": [
    "<h2>EXERCISES-3-b</h2>"
   ]
  },
  {
   "cell_type": "markdown",
   "id": "a697ef2c",
   "metadata": {},
   "source": [
    "<h4>1.Store 5 different birthdates into a tuple. Print birthdates in the order of from elder to younger (i.e.Sort the tuple in descending order of dates).</h4>"
   ]
  },
  {
   "cell_type": "code",
   "execution_count": 15,
   "id": "24af7a87",
   "metadata": {},
   "outputs": [
    {
     "name": "stdout",
     "output_type": "stream",
     "text": [
      "Sorted Tuple : ('1997-9-10', '1999-12-12', '2000-10-10', '2002-8-9', '2012-8-2')\n"
     ]
    }
   ],
   "source": [
    "tup1 = (\"2012-8-2\",\"2002-8-9\",\"2000-10-10\",\"1999-12-12\",\"1997-9-10\")\n",
    "sort = tuple(sorted(tup1))  \n",
    "print('Sorted Tuple :', sort)  "
   ]
  },
  {
   "cell_type": "markdown",
   "id": "2eab1f0d",
   "metadata": {},
   "source": [
    "<h4>2.Create two tuples with some elements. Store only common elements from both the tuples into a third tuple.</h4>"
   ]
  },
  {
   "cell_type": "code",
   "execution_count": 16,
   "id": "0f5349e2",
   "metadata": {},
   "outputs": [
    {
     "name": "stdout",
     "output_type": "stream",
     "text": [
      "(3, 4)\n"
     ]
    }
   ],
   "source": [
    "tup1 = (1,2,3,4)\n",
    "tup2 = (3,4,5,6)\n",
    "tup3 = tuple(set(tup1) & set(tup2))\n",
    "print(tup3)"
   ]
  },
  {
   "cell_type": "markdown",
   "id": "98111670",
   "metadata": {},
   "source": [
    "<h4>3.Reverse a string without help of inbuilt function (OR Reverse a string using only one command/statement). Store answer in another string.</h4>"
   ]
  },
  {
   "cell_type": "code",
   "execution_count": 17,
   "id": "cc6faf0f",
   "metadata": {},
   "outputs": [
    {
     "name": "stdout",
     "output_type": "stream",
     "text": [
      "udd olleh\n"
     ]
    }
   ],
   "source": [
    "s1 = \"hello ddu\"\n",
    "s2 = s1[::-1]\n",
    "print(s2)"
   ]
  },
  {
   "cell_type": "markdown",
   "id": "c7396734",
   "metadata": {},
   "source": [
    "<h2>EXERCISES-3-c</h2>"
   ]
  },
  {
   "cell_type": "markdown",
   "id": "c4fc603c",
   "metadata": {},
   "source": [
    "<h4>1.Explain usage of items() method of dictionary.</h4>"
   ]
  },
  {
   "cell_type": "code",
   "execution_count": 36,
   "id": "1ab2a7ef",
   "metadata": {},
   "outputs": [
    {
     "name": "stdout",
     "output_type": "stream",
     "text": [
      "dict_items([('brand', 'Ford'), ('model', 'Mustang'), ('year', 1964)])\n"
     ]
    }
   ],
   "source": [
    "car = {\"brand\": \"Ford\",\"model\": \"Mustang\",\"year\": 1964}\n",
    "x = car.items()\n",
    "print(x)"
   ]
  },
  {
   "cell_type": "markdown",
   "id": "763b4c91",
   "metadata": {},
   "source": [
    "<h4>2.Explain usage of get() & pop() methods of dictionary.</h4>"
   ]
  },
  {
   "cell_type": "code",
   "execution_count": 37,
   "id": "20ceb5e0",
   "metadata": {},
   "outputs": [
    {
     "name": "stdout",
     "output_type": "stream",
     "text": [
      "Ford\n"
     ]
    },
    {
     "data": {
      "text/plain": [
       "1964"
      ]
     },
     "execution_count": 37,
     "metadata": {},
     "output_type": "execute_result"
    }
   ],
   "source": [
    "print(car.get(\"brand\"))\n",
    "car.pop(\"year\")"
   ]
  },
  {
   "cell_type": "markdown",
   "id": "94877e02",
   "metadata": {},
   "source": [
    "<h4>3.Explain usage of popitem() & update() methods of dictionary.<h4>"
   ]
  },
  {
   "cell_type": "code",
   "execution_count": 40,
   "id": "bee9111c",
   "metadata": {},
   "outputs": [
    {
     "name": "stdout",
     "output_type": "stream",
     "text": [
      "{'brand': 'Ford', 'year': 1964}\n"
     ]
    }
   ],
   "source": [
    "car.popitem()\n",
    "car.update(year = 1964)\n",
    "print(car)"
   ]
  },
  {
   "cell_type": "markdown",
   "id": "0e08fa6d",
   "metadata": {},
   "source": [
    "<h4>4.Count frequency of each vowel in a sentence.</h4>"
   ]
  },
  {
   "cell_type": "code",
   "execution_count": 42,
   "id": "eb353cb6",
   "metadata": {},
   "outputs": [
    {
     "name": "stdout",
     "output_type": "stream",
     "text": [
      "{'a': 3, 'e': 5, 'i': 2, 'o': 1, 'u': 0}\n"
     ]
    }
   ],
   "source": [
    "s = \"this is an example of a sentence.\"\n",
    "s = s.lower()\n",
    "\n",
    "vowel_freq = {'a': 0, 'e': 0, 'i': 0, 'o': 0, 'u': 0}\n",
    "\n",
    "for char in s:\n",
    "    if char in vowel_freq:\n",
    "        vowel_freq[char] += 1\n",
    "\n",
    "print(vowel_freq)"
   ]
  }
 ],
 "metadata": {
  "kernelspec": {
   "display_name": "Python 3 (ipykernel)",
   "language": "python",
   "name": "python3"
  },
  "language_info": {
   "codemirror_mode": {
    "name": "ipython",
    "version": 3
   },
   "file_extension": ".py",
   "mimetype": "text/x-python",
   "name": "python",
   "nbconvert_exporter": "python",
   "pygments_lexer": "ipython3",
   "version": "3.10.9"
  }
 },
 "nbformat": 4,
 "nbformat_minor": 5
}
