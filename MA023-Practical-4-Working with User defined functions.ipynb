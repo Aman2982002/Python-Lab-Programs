{
 "cells": [
  {
   "cell_type": "markdown",
   "id": "6b28cef8",
   "metadata": {},
   "source": [
    "<h2>Exercises :</h2>"
   ]
  },
  {
   "cell_type": "markdown",
   "id": "98310614",
   "metadata": {},
   "source": [
    "<h4>1.Create a function calcFactorial. It should accept one integer parameter. If the parameter is integer, the function should return factorial of the parameter, else the function should return -9999. Show usage of the function.</h4>"
   ]
  },
  {
   "cell_type": "code",
   "execution_count": 3,
   "id": "391da8b7",
   "metadata": {},
   "outputs": [
    {
     "name": "stdout",
     "output_type": "stream",
     "text": [
      "Factorial of 5 is : 120\n"
     ]
    }
   ],
   "source": [
    "def calcFactorial(n):\n",
    "    if isinstance(n, int):\n",
    "        f = 1\n",
    "        i = 1\n",
    "        while(i<=n):\n",
    "            f *= i\n",
    "            i += 1\n",
    "        return f\n",
    "    else:\n",
    "        return -9999\n",
    "##\n",
    "print(\"Factorial of 5 is :\",calcFactorial(5))"
   ]
  },
  {
   "cell_type": "markdown",
   "id": "067b1c67",
   "metadata": {},
   "source": [
    "<h4>2.Create a function checkPrime. It should accept one integer parameter. If the parameter is not integer, the function should return -9999. The function should return True if the parameter is a prime number, else the function should return False. Show usage of the function</h4>"
   ]
  },
  {
   "cell_type": "code",
   "execution_count": 10,
   "id": "d49b738a",
   "metadata": {},
   "outputs": [
    {
     "name": "stdout",
     "output_type": "stream",
     "text": [
      "17 Prime or not : True\n"
     ]
    }
   ],
   "source": [
    "def checkPrime(n):\n",
    "    if isinstance(n, int):\n",
    "        i = 2\n",
    "        while(i<n/2):\n",
    "            if(n%i==0):\n",
    "                return False\n",
    "            i+=1\n",
    "        return True\n",
    "    else:\n",
    "        return -9999\n",
    "##\n",
    "print(\"17 Prime or not :\",checkPrime(17))"
   ]
  },
  {
   "cell_type": "markdown",
   "id": "2140207e",
   "metadata": {},
   "source": [
    "<h4>3.Create a function countVowelsFrequencies. The function should accept one string parameter and return frequency of each vowel present in the parameter.</h4>"
   ]
  },
  {
   "cell_type": "code",
   "execution_count": 1,
   "id": "ea0e606f",
   "metadata": {},
   "outputs": [
    {
     "data": {
      "text/plain": [
       "{'a': 1,\n",
       " 'e': 2,\n",
       " 'i': 2,\n",
       " 'o': 1,\n",
       " 'u': 0,\n",
       " 'A': 0,\n",
       " 'E': 3,\n",
       " 'I': 0,\n",
       " 'O': 0,\n",
       " 'U': 0}"
      ]
     },
     "execution_count": 1,
     "metadata": {},
     "output_type": "execute_result"
    }
   ],
   "source": [
    "def countVowelsFrequencies(sent):\n",
    "    freq = {'a' : 0,'e' : 0,'i' : 0,'o' : 0,'u' : 0,'A' : 0,'E' : 0,'I' : 0,'O' : 0,'U' : 0}\n",
    "    for i in sent:\n",
    "        if i in freq:\n",
    "            freq[i] += 1\n",
    "    return freq\n",
    "\n",
    "sent = \"This is example of SENTENCE\"\n",
    "countVowelsFrequencies(sent)"
   ]
  },
  {
   "cell_type": "markdown",
   "id": "a295bc29",
   "metadata": {},
   "source": [
    "<h4>4.Create a function factorials which accepts a list of integers. The function should compute factorial for all list elements (use calcFactorial() from above sr# 1), and return all factorial values.</h4>"
   ]
  },
  {
   "cell_type": "code",
   "execution_count": 4,
   "id": "097c9f11",
   "metadata": {},
   "outputs": [
    {
     "name": "stdout",
     "output_type": "stream",
     "text": [
      "[1, 2, 3, 4, 5]\n",
      "[1, 2, 6, 24, 120]\n"
     ]
    }
   ],
   "source": [
    "def fact(lst):\n",
    "    f = []\n",
    "    for i in lst:\n",
    "        f.append(calcFactorial(i))\n",
    "    return f\n",
    "lst = [1,2,3,4,5]\n",
    "print(lst)\n",
    "print(fact(lst))"
   ]
  },
  {
   "cell_type": "markdown",
   "id": "4f71ca15",
   "metadata": {},
   "source": [
    "<h4>5.Create a function calcSimpleInterest() to compute simple interest of three paramters: principal_amount, duration, rate_of_interest. Demonstrate usage of default arguments in function call.</h4>"
   ]
  },
  {
   "cell_type": "code",
   "execution_count": 5,
   "id": "00bad57e",
   "metadata": {},
   "outputs": [
    {
     "name": "stdout",
     "output_type": "stream",
     "text": [
      "SI : 1800.0\n",
      "SI : 250.0\n"
     ]
    }
   ],
   "source": [
    "def calcSimpleInterest(p,r,n=5):\n",
    "    return (p * r * n)/100\n",
    "\n",
    "print(\"SI :\",calcSimpleInterest(10000,3,6))\n",
    "print(\"SI :\",calcSimpleInterest(1000,5))"
   ]
  },
  {
   "cell_type": "markdown",
   "id": "abc7f6dc",
   "metadata": {},
   "source": [
    "<h4>6.Create a function printMultiplicationTable(). The function should receive an integer parameter and print multiplication table of the same.</h4>"
   ]
  },
  {
   "cell_type": "code",
   "execution_count": 1,
   "id": "d638b514",
   "metadata": {},
   "outputs": [
    {
     "name": "stdout",
     "output_type": "stream",
     "text": [
      "2 * 1  =  2\n",
      "2 * 2  =  4\n",
      "2 * 3  =  6\n",
      "2 * 4  =  8\n",
      "2 * 5  =  10\n",
      "2 * 6  =  12\n",
      "2 * 7  =  14\n",
      "2 * 8  =  16\n",
      "2 * 9  =  18\n",
      "2 * 10  =  20\n"
     ]
    }
   ],
   "source": [
    "def printMultiplicationTable(n):\n",
    "    mul = 1\n",
    "    if isinstance(n,int):\n",
    "        for i in range(1,11):\n",
    "            mul = n * i\n",
    "            print(n , '*' , i ,\" = \",mul)\n",
    "printMultiplicationTable(2)"
   ]
  },
  {
   "cell_type": "markdown",
   "id": "7821261c",
   "metadata": {},
   "source": [
    "<h4>7.Create a function toUpper() to convert a string parameter in upper case and return the same. Do not use inbuilt function.</h4>"
   ]
  },
  {
   "cell_type": "code",
   "execution_count": 12,
   "id": "2ada0283",
   "metadata": {},
   "outputs": [
    {
     "name": "stdout",
     "output_type": "stream",
     "text": [
      " UPPER CASE\n"
     ]
    }
   ],
   "source": [
    "def toUpper(sent):  \n",
    "    ans = \" \"\n",
    "    for i in sent:\n",
    "        if 97 <= ord(i) <= 122:\n",
    "            ans += chr(ord(i) - 32)\n",
    "        else:\n",
    "            ans += i\n",
    "    return ans\n",
    "\n",
    "sent = \"upper case\"\n",
    "print(toUpper(sent))"
   ]
  },
  {
   "cell_type": "markdown",
   "id": "1c66f187",
   "metadata": {},
   "source": [
    "<h4>8.Create a function removeWhiteSpaceFromString() to remove white space from a string parameter.</h4>"
   ]
  },
  {
   "cell_type": "code",
   "execution_count": 15,
   "id": "884d5004",
   "metadata": {},
   "outputs": [
    {
     "name": "stdout",
     "output_type": "stream",
     "text": [
      " Thisissentence\n"
     ]
    }
   ],
   "source": [
    "def removeWhiteSpaceFromString(sent):\n",
    "    str = \" \"\n",
    "    for i in sent:\n",
    "        if i not in \" \":\n",
    "            str += i\n",
    "    return str\n",
    "sent = \"   This  is sentence   \"\n",
    "print(removeWhiteSpaceFromString(sent))"
   ]
  },
  {
   "cell_type": "markdown",
   "id": "6ab8ac28",
   "metadata": {},
   "source": [
    "<h4>9.Create function reverseString() to reverse a string parameter. Do not use inbuilt function..</h4>"
   ]
  },
  {
   "cell_type": "code",
   "execution_count": 16,
   "id": "23de28e4",
   "metadata": {},
   "outputs": [
    {
     "name": "stdout",
     "output_type": "stream",
     "text": [
      " UDD olleH\n"
     ]
    }
   ],
   "source": [
    "def reverseString(sent):\n",
    "    ln = len(sent)\n",
    "    str = \" \"\n",
    "    for i in range(1,ln+1):\n",
    "        str += sent[-i]\n",
    "    return str\n",
    "sent = \"Hello DDU\"\n",
    "print(reverseString(sent))"
   ]
  },
  {
   "cell_type": "markdown",
   "id": "2b510920",
   "metadata": {},
   "source": [
    "<h4>10.Create a function checkSquare(), which accepts lengths of four sides of a rectangle; and checks if rectangle is square or not.</h4>"
   ]
  },
  {
   "cell_type": "code",
   "execution_count": 11,
   "id": "abd71735",
   "metadata": {},
   "outputs": [
    {
     "name": "stdout",
     "output_type": "stream",
     "text": [
      "Rectangle is Square\n",
      "Rectangle is not Square\n"
     ]
    }
   ],
   "source": [
    "def checkSquare(a,b,c,d):\n",
    "    if a == b == c == d:\n",
    "        return \"Rectangle is Square\"\n",
    "    else:\n",
    "        return \"Rectangle is not Square\"\n",
    "print(checkSquare(5,5,5,5))\n",
    "print(checkSquare(5,4,5,4))"
   ]
  }
 ],
 "metadata": {
  "kernelspec": {
   "display_name": "Python 3 (ipykernel)",
   "language": "python",
   "name": "python3"
  },
  "language_info": {
   "codemirror_mode": {
    "name": "ipython",
    "version": 3
   },
   "file_extension": ".py",
   "mimetype": "text/x-python",
   "name": "python",
   "nbconvert_exporter": "python",
   "pygments_lexer": "ipython3",
   "version": "3.10.9"
  }
 },
 "nbformat": 4,
 "nbformat_minor": 5
}
