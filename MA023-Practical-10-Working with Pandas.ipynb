{
 "cells": [
  {
   "cell_type": "code",
   "execution_count": 1,
   "id": "d7e26a91",
   "metadata": {},
   "outputs": [
    {
     "data": {
      "text/plain": [
       "pandas.core.frame.DataFrame"
      ]
     },
     "execution_count": 1,
     "metadata": {},
     "output_type": "execute_result"
    }
   ],
   "source": [
    "import pandas as pd\n",
    "df = pd.read_csv('employee-data.csv')\n",
    "type(df)"
   ]
  },
  {
   "cell_type": "code",
   "execution_count": 2,
   "id": "f4584521",
   "metadata": {},
   "outputs": [
    {
     "name": "stdout",
     "output_type": "stream",
     "text": [
      "   empid           ename       sal         doj\n",
      "0   1001      Ganesh Rao  10000.00  10-10-2000\n",
      "1   1002      Anil Kumar  23000.50   3-20-2002\n",
      "2   1003    Gaurav Gupta  18000.53  03-03-2002\n",
      "3   1004    Hema Chandra  16500.50  09-10-2000\n",
      "4   1005  Laxmi Prasanna  12000.75  10-08-2000\n",
      "5   1006       Anant Nag   9999.99  09-09-1999\n"
     ]
    }
   ],
   "source": [
    "print(df)"
   ]
  },
  {
   "cell_type": "markdown",
   "id": "38f2cf1a",
   "metadata": {},
   "source": [
    "#### 1. Print salary of Ganesh Rao."
   ]
  },
  {
   "cell_type": "code",
   "execution_count": 3,
   "id": "e52fcbc4",
   "metadata": {},
   "outputs": [
    {
     "name": "stdout",
     "output_type": "stream",
     "text": [
      "Salary of Ganesh Rao is: 10000.0\n"
     ]
    }
   ],
   "source": [
    "sal = df[df['ename'] == 'Ganesh Rao']['sal'].values[0]\n",
    "print(\"Salary of Ganesh Rao is:\",sal)"
   ]
  },
  {
   "cell_type": "markdown",
   "id": "d67a0a75",
   "metadata": {},
   "source": [
    "#### 2. Print joining date and id of Laxmi Prasanna."
   ]
  },
  {
   "cell_type": "code",
   "execution_count": 4,
   "id": "e113b451",
   "metadata": {},
   "outputs": [
    {
     "name": "stdout",
     "output_type": "stream",
     "text": [
      "   empid         doj\n",
      "4   1005  10-08-2000\n"
     ]
    }
   ],
   "source": [
    "lp = df[['empid','doj']][df['ename'] == 'Laxmi Prasanna']\n",
    "print(lp)"
   ]
  },
  {
   "cell_type": "markdown",
   "id": "874cf751",
   "metadata": {},
   "source": [
    "#### 3. Print average salary."
   ]
  },
  {
   "cell_type": "code",
   "execution_count": 5,
   "id": "1f34203b",
   "metadata": {},
   "outputs": [
    {
     "name": "stdout",
     "output_type": "stream",
     "text": [
      "14917.045\n"
     ]
    }
   ],
   "source": [
    "print(df['sal'].mean())"
   ]
  }
 ],
 "metadata": {
  "kernelspec": {
   "display_name": "Python 3 (ipykernel)",
   "language": "python",
   "name": "python3"
  },
  "language_info": {
   "codemirror_mode": {
    "name": "ipython",
    "version": 3
   },
   "file_extension": ".py",
   "mimetype": "text/x-python",
   "name": "python",
   "nbconvert_exporter": "python",
   "pygments_lexer": "ipython3",
   "version": "3.10.9"
  }
 },
 "nbformat": 4,
 "nbformat_minor": 5
}
