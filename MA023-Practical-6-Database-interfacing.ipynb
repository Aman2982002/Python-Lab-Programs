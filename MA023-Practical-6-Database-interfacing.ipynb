{
 "cells": [
  {
   "cell_type": "markdown",
   "id": "afe82e36",
   "metadata": {},
   "source": [
    "<b>1. Create connection to the mysql on localhost.<b>"
   ]
  },
  {
   "cell_type": "code",
   "execution_count": 2,
   "id": "7267d1fd",
   "metadata": {},
   "outputs": [
    {
     "name": "stdout",
     "output_type": "stream",
     "text": [
      "Connection =  <mysql.connector.connection_cext.CMySQLConnection object at 0x0000025CA990B6D0>\n"
     ]
    }
   ],
   "source": [
    "import mysql.connector\n",
    "\n",
    "con = mysql.connector.connect(host=\"localhost\", user=\"root\", password=\"amankhatri\")\n",
    "\n",
    "print(\"Connection = \",con)\n",
    "\n",
    "con.close()"
   ]
  },
  {
   "cell_type": "markdown",
   "id": "1358c5f6",
   "metadata": {},
   "source": [
    "<b>2. List all the databases available in your system.</b>"
   ]
  },
  {
   "cell_type": "code",
   "execution_count": 6,
   "id": "4de9ee03",
   "metadata": {
    "scrolled": true
   },
   "outputs": [
    {
     "name": "stdout",
     "output_type": "stream",
     "text": [
      "('apt',)\n",
      "('batch2',)\n",
      "('dbms',)\n",
      "('information_schema',)\n",
      "('mysql',)\n",
      "('performance_schema',)\n",
      "('s',)\n",
      "('sys',)\n",
      "('termwork',)\n",
      "('test',)\n",
      "('test1',)\n",
      "('testing',)\n"
     ]
    }
   ],
   "source": [
    "from mysql.connector import connect, Error\n",
    "\n",
    "try:\n",
    "    con = connect(host=\"localhost\",user=\"root\",password=\"amankhatri\")\n",
    "    cursor = con.cursor()\n",
    "    \n",
    "    cursor.execute(\"SHOW DATABASES\")\n",
    "\n",
    "    for db in cursor:\n",
    "        print(db)\n",
    "        \n",
    "    cursor.close()\n",
    "    con.close()\n",
    "except Error as e:\n",
    "    print(e)"
   ]
  },
  {
   "cell_type": "markdown",
   "id": "921d02af",
   "metadata": {},
   "source": [
    "<b>3. Create a database dbStudent. Connect to it.</b>"
   ]
  },
  {
   "cell_type": "code",
   "execution_count": 17,
   "id": "abe675dc",
   "metadata": {},
   "outputs": [
    {
     "name": "stdout",
     "output_type": "stream",
     "text": [
      "'dbStudent' database Created\n",
      "Connected to 'dbStudent' database\n"
     ]
    }
   ],
   "source": [
    "import mysql.connector\n",
    "\n",
    "conn = mysql.connector.connect(host=\"localhost\", user=\"root\", password=\"amankhatri\")\n",
    "cursor = conn.cursor()\n",
    "cursor.execute(\"CREATE DATABASE IF NOT EXISTS dbStudent\")\n",
    "print(\"'dbStudent' database Created\")\n",
    "cursor.close()\n",
    "\n",
    "conn = mysql.connector.connect(host=\"localhost\", user=\"root\", password=\"amankhatri\", database=\"dbStudent\")\n",
    "print(\"Connected to 'dbStudent' database\")"
   ]
  },
  {
   "cell_type": "markdown",
   "id": "bc362d45",
   "metadata": {},
   "source": [
    "<b>4.Create a table tblStudent with columns of suitable type: rollno, name, birthdate, gender, cmarks, cppmarks, pythonmarks,totalmarks, percentage and grade.</b>"
   ]
  },
  {
   "cell_type": "code",
   "execution_count": 18,
   "id": "355ec890",
   "metadata": {},
   "outputs": [
    {
     "name": "stdout",
     "output_type": "stream",
     "text": [
      "Table 'tblStudent' created successfully.\n"
     ]
    }
   ],
   "source": [
    "import mysql.connector\n",
    "\n",
    "conn = mysql.connector.connect(host=\"localhost\", user=\"root\", password=\"amankhatri\", database=\"dbStudent\")\n",
    "cursor = conn.cursor()\n",
    "\n",
    "create_table_query = \"\"\"\n",
    "    CREATE TABLE IF NOT EXISTS tblStudent (\n",
    "        rollno INT PRIMARY KEY,\n",
    "        name VARCHAR(255),\n",
    "        birthdate DATE,\n",
    "        gender ENUM('Male', 'Female', 'Other'),\n",
    "        cmarks INT,\n",
    "        cppmarks INT,\n",
    "        pythonmarks INT,\n",
    "        totalmarks INT,\n",
    "        percentage DECIMAL(5, 2),\n",
    "        grade CHAR(1)\n",
    "    )\n",
    "\"\"\"\n",
    "\n",
    "cursor.execute(create_table_query)\n",
    "conn.commit()\n",
    "cursor.close()\n",
    "conn.close()\n",
    "\n",
    "print(\"Table 'tblStudent' created successfully.\")"
   ]
  },
  {
   "cell_type": "markdown",
   "id": "03141247",
   "metadata": {},
   "source": [
    "<b>5. Insert at least 10 rows (only rollno, name, birthdate, gender, cmarks, cppmarks, pythonmarks) into tblStudent. Use different ways for the same (as shown in various examples shown above).</b>"
   ]
  },
  {
   "cell_type": "code",
   "execution_count": 2,
   "id": "a1d94601",
   "metadata": {},
   "outputs": [
    {
     "name": "stdout",
     "output_type": "stream",
     "text": [
      "Inserted student data into 'tblStudent' successfully.\n"
     ]
    }
   ],
   "source": [
    "import mysql.connector\n",
    "\n",
    "conn = mysql.connector.connect(host=\"localhost\", user=\"root\", password=\"amankhatri\", database=\"dbStudent\")\n",
    "cursor = conn.cursor()\n",
    "\n",
    "student_data = [\n",
    "    (1, 'Aman Khatri', '2002-08-29', 'Male', 80, 85, 70),\n",
    "    (2, 'Neha Mishra', '2000-03-28', 'Female', 75, 89, 95),\n",
    "    (3, 'Rahul Jogadiya', '2001-07-27', 'Male', 90, 92, 88),\n",
    "    (4, 'Payal Sharma', '1999-04-25', 'Female', 81, 89, 78),\n",
    "    (5, 'Karan Garle', '2002-02-10', 'Male', 95, 83, 94),\n",
    "    (6, 'Pooja Verma', '1999-07-18', 'Female', 84, 87, 85),\n",
    "    (7, 'Virat Kohli', '1996-11-20', 'Male', 90, 92, 88),\n",
    "    (8, 'Ankita Gandhi', '2000-05-08', 'Female', 71, 60, 72),\n",
    "    (9, 'Jaivin Domadiya', '2001-08-12', 'Male', 88, 91, 84),\n",
    "    (10, 'Anita Choudhary', '2000-01-05', 'Female', 82, 83, 87)\n",
    "]\n",
    "\n",
    "insert_query = \"\"\"\n",
    "    INSERT INTO tblStudent (rollno, name, birthdate, gender, cmarks, cppmarks, pythonmarks)\n",
    "    VALUES (%s, %s, %s, %s, %s, %s, %s)\n",
    "\"\"\"\n",
    "\n",
    "cursor.executemany(insert_query, student_data)\n",
    "conn.commit()\n",
    "\n",
    "cursor.close()\n",
    "conn.close()\n",
    "\n",
    "print(\"Inserted student data into 'tblStudent' successfully.\")"
   ]
  },
  {
   "cell_type": "markdown",
   "id": "df2aedba",
   "metadata": {},
   "source": [
    "<b>6. Print all rows (only rollno, name, birthdate, gender, cmarks, cppmarks, pythonmarks) on screen (as shown in various examples shown above).</b>"
   ]
  },
  {
   "cell_type": "code",
   "execution_count": 3,
   "id": "5b88910e",
   "metadata": {},
   "outputs": [
    {
     "name": "stdout",
     "output_type": "stream",
     "text": [
      "Roll No  Name            Birthdate    Gender   C Marks CPP Marks Python Marks\n",
      "==============================================================================\n",
      "1        Aman Khatri     2002-08-29   Male     80      85        70     \n",
      "2        Neha Mishra     2000-03-28   Female   75      89        95     \n",
      "3        Rahul Jogadiya  2001-07-27   Male     90      92        88     \n",
      "4        Payal Sharma    1999-04-25   Female   81      89        78     \n",
      "5        Karan Garle     2002-02-10   Male     95      83        94     \n",
      "6        Pooja Verma     1999-07-18   Female   84      87        85     \n",
      "7        Virat Kohli     1996-11-20   Male     90      92        88     \n",
      "8        Ankita Gandhi   2000-05-08   Female   71      60        72     \n",
      "9        Jaivin Domadiya 2001-08-12   Male     88      91        84     \n",
      "10       Anita Choudhary 2000-01-05   Female   82      83        87     \n"
     ]
    }
   ],
   "source": [
    "import mysql.connector\n",
    " \n",
    "conn = mysql.connector.connect(host=\"localhost\", user=\"root\", password=\"amankhatri\", database=\"dbStudent\")\n",
    "cursor = conn.cursor()\n",
    "\n",
    "cursor.execute(\"SELECT rollno, name, DATE_FORMAT(birthdate, '%Y-%m-%d'), gender, cmarks, cppmarks, pythonmarks FROM tblStudent\")\n",
    "\n",
    "student_records = cursor.fetchall()\n",
    "\n",
    "print(\"{:<8} {:<15} {:<12} {:<8} {:<7} {:<7} {:<7}\".format(\"Roll No\", \"Name\", \"Birthdate\", \"Gender\", \"C Marks\", \"CPP Marks\", \"Python Marks\"))\n",
    "print(\"=\"*78)\n",
    "\n",
    "for record in student_records:\n",
    "    rollno, name, birthdate, gender, cmarks, cppmarks, pythonmarks = record\n",
    "    print(\"{:<8} {:<15} {:<12} {:<8} {:<7} {:<9} {:<7}\".format(rollno, name, birthdate, gender, cmarks, cppmarks, pythonmarks))\n",
    "\n",
    "cursor.close()\n",
    "conn.close()"
   ]
  },
  {
   "cell_type": "markdown",
   "id": "75576ed8",
   "metadata": {},
   "source": [
    "<b>7. Compute & update totalmarks for all rows in table.</b>"
   ]
  },
  {
   "cell_type": "code",
   "execution_count": 4,
   "id": "b76e845b",
   "metadata": {},
   "outputs": [
    {
     "name": "stdout",
     "output_type": "stream",
     "text": [
      "Totalmarks computed and updated successfully for all rows.\n"
     ]
    }
   ],
   "source": [
    "import mysql.connector\n",
    "\n",
    "conn = mysql.connector.connect(host=\"localhost\", user=\"root\", password=\"amankhatri\", database=\"dbStudent\")\n",
    "cursor = conn.cursor()\n",
    "\n",
    "compute_total_query = \"UPDATE tblStudent SET totalmarks = cmarks + cppmarks + pythonmarks\"\n",
    "cursor.execute(compute_total_query)\n",
    "conn.commit()\n",
    "\n",
    "cursor.close()\n",
    "conn.close()\n",
    "\n",
    "print(\"Totalmarks computed and updated successfully for all rows.\")"
   ]
  },
  {
   "cell_type": "markdown",
   "id": "6e2f22c2",
   "metadata": {},
   "source": [
    "<b>8.Compute & update percentage for all rows in table.</b>"
   ]
  },
  {
   "cell_type": "code",
   "execution_count": 6,
   "id": "af63ee9c",
   "metadata": {},
   "outputs": [
    {
     "name": "stdout",
     "output_type": "stream",
     "text": [
      "Percentage computed and updated successfully for all rows.\n"
     ]
    }
   ],
   "source": [
    "import mysql.connector\n",
    "\n",
    "conn = mysql.connector.connect(host=\"localhost\", user=\"root\", password=\"amankhatri\", database=\"dbStudent\")\n",
    "cursor = conn.cursor()\n",
    "\n",
    "compute_percentage_query = \"UPDATE tblStudent SET percentage = (cmarks + cppmarks + pythonmarks) / 3\"\n",
    "cursor.execute(compute_percentage_query)\n",
    "conn.commit()\n",
    "\n",
    "cursor.close()\n",
    "conn.close()\n",
    "\n",
    "print(\"Percentage computed and updated successfully for all rows.\")"
   ]
  },
  {
   "cell_type": "markdown",
   "id": "21e2b1b8",
   "metadata": {},
   "source": [
    "<b>9.Compute & update grade for all rows in table.</b>"
   ]
  },
  {
   "cell_type": "code",
   "execution_count": 7,
   "id": "897e3dbe",
   "metadata": {},
   "outputs": [
    {
     "name": "stdout",
     "output_type": "stream",
     "text": [
      "Grade computed and updated successfully for all rows.\n"
     ]
    }
   ],
   "source": [
    "import mysql.connector\n",
    "\n",
    "conn = mysql.connector.connect(host=\"localhost\", user=\"root\", password=\"amankhatri\", database=\"dbStudent\")\n",
    "cursor = conn.cursor()\n",
    "\n",
    "compute_grade_query = \"\"\"\n",
    "    UPDATE tblStudent\n",
    "    SET grade = CASE\n",
    "        WHEN percentage >= 90 THEN 'A'\n",
    "        WHEN percentage >= 80 THEN 'B'\n",
    "        WHEN percentage >= 70 THEN 'C'\n",
    "        WHEN percentage >= 60 THEN 'D'\n",
    "        WHEN percentage >= 50 THEN 'E'\n",
    "        ELSE 'F'\n",
    "    END\n",
    "\"\"\"\n",
    "\n",
    "cursor.execute(compute_grade_query)\n",
    "conn.commit()\n",
    "\n",
    "cursor.close()\n",
    "conn.close()\n",
    "\n",
    "print(\"Grade computed and updated successfully for all rows.\")"
   ]
  },
  {
   "cell_type": "markdown",
   "id": "4ec97105",
   "metadata": {},
   "source": [
    "<b>10. Print all rows (all columns).</b>"
   ]
  },
  {
   "cell_type": "code",
   "execution_count": 8,
   "id": "b0f1b0cd",
   "metadata": {},
   "outputs": [
    {
     "name": "stdout",
     "output_type": "stream",
     "text": [
      "Roll No  Name            Birthdate    Gender   C       CPP     Python       Totalmarks Percentage Grade  \n",
      "============================================================================================================\n",
      "1        Aman Khatri     2002-08-29   Male     80      85        70           235        78.33      C      \n",
      "2        Neha Mishra     2000-03-28   Female   75      89        95           259        86.33      B      \n",
      "3        Rahul Jogadiya  2001-07-27   Male     90      92        88           270        90.00      A      \n",
      "4        Payal Sharma    1999-04-25   Female   81      89        78           248        82.67      B      \n",
      "5        Karan Garle     2002-02-10   Male     95      83        94           272        90.67      A      \n",
      "6        Pooja Verma     1999-07-18   Female   84      87        85           256        85.33      B      \n",
      "7        Virat Kohli     1996-11-20   Male     90      92        88           270        90.00      A      \n",
      "8        Ankita Gandhi   2000-05-08   Female   71      60        72           203        67.67      D      \n",
      "9        Jaivin Domadiya 2001-08-12   Male     88      91        84           263        87.67      B      \n",
      "10       Anita Choudhary 2000-01-05   Female   82      83        87           252        84.00      B      \n"
     ]
    }
   ],
   "source": [
    "import mysql.connector\n",
    "\n",
    "conn = mysql.connector.connect(host=\"localhost\", user=\"root\", password=\"amankhatri\", database=\"dbStudent\")\n",
    "cursor = conn.cursor()\n",
    "\n",
    "select_all_query = \"SELECT rollno, name, DATE_FORMAT(birthdate, '%Y-%m-%d'), gender, cmarks, cppmarks, pythonmarks,totalmarks, percentage, grade FROM tblStudent\"\n",
    "cursor.execute(select_all_query)\n",
    "\n",
    "student_records = cursor.fetchall()\n",
    "\n",
    "print(\"{:<8} {:<15} {:<12} {:<8} {:<7} {:<7} {:13}{:<7} {:<7} {:<7}\".format(\"Roll No\", \"Name\", \"Birthdate\", \"Gender\", \"C\", \"CPP\", \"Python\",\"Totalmarks\", \"Percentage\", \"Grade\" ))\n",
    "print(\"=\"*108)\n",
    "\n",
    "\n",
    "    \n",
    "for record in student_records:\n",
    "    rollno, name, birthdate, gender, cmarks, cppmarks, pythonmarks, totalmarks, percentage, grade = record\n",
    "    print(\"{:<8} {:<15} {:<12} {:<8} {:<7} {:<9} {:<12} {:<10} {:<10} {:<7}\".format(rollno, name, birthdate, gender, cmarks, cppmarks, pythonmarks, totalmarks, percentage, grade))\n",
    " \n",
    "cursor.close()\n",
    "conn.close()"
   ]
  },
  {
   "cell_type": "markdown",
   "id": "c078bad0",
   "metadata": {},
   "source": [
    "<b>11.Print all rows with only columns: rollno, name, percentage and grade.</b>"
   ]
  },
  {
   "cell_type": "code",
   "execution_count": 9,
   "id": "2a84213f",
   "metadata": {},
   "outputs": [
    {
     "name": "stdout",
     "output_type": "stream",
     "text": [
      "Roll No  Name            Percentage   Grade    \n",
      "===========================================\n",
      "1        Aman Khatri     78.33        C        \n",
      "2        Neha Mishra     86.33        B        \n",
      "3        Rahul Jogadiya  90.00        A        \n",
      "4        Payal Sharma    82.67        B        \n",
      "5        Karan Garle     90.67        A        \n",
      "6        Pooja Verma     85.33        B        \n",
      "7        Virat Kohli     90.00        A        \n",
      "8        Ankita Gandhi   67.67        D        \n",
      "9        Jaivin Domadiya 87.67        B        \n",
      "10       Anita Choudhary 84.00        B        \n"
     ]
    }
   ],
   "source": [
    "import mysql.connector\n",
    "\n",
    "conn = mysql.connector.connect(host=\"localhost\", user=\"root\", password=\"amankhatri\", database=\"dbStudent\")\n",
    "cursor = conn.cursor()\n",
    "\n",
    "select_query = \"SELECT rollno, name, percentage, grade FROM tblStudent\"\n",
    "cursor.execute(select_query)\n",
    "\n",
    "student_records = cursor.fetchall()\n",
    "\n",
    "print(\"{:<8} {:<15} {:<12} {:<8} \".format(\"Roll No\", \"Name\", \"Percentage\", \"Grade\" )) \n",
    "print(\"=\"*43)\n",
    "for record in student_records:\n",
    "    rollno, name, percentage, grade = record\n",
    "    print(\"{:<8} {:<15} {:<12} {:<8} \".format(rollno, name, percentage, grade))\n",
    " \n",
    "\n",
    "cursor.close()\n",
    "conn.close()"
   ]
  },
  {
   "cell_type": "markdown",
   "id": "23391666",
   "metadata": {},
   "source": [
    "<b>12.Print merit list.</b>"
   ]
  },
  {
   "cell_type": "code",
   "execution_count": 10,
   "id": "0aa2d9b1",
   "metadata": {},
   "outputs": [
    {
     "name": "stdout",
     "output_type": "stream",
     "text": [
      "Roll No  Name            Percentage   Grade   \n",
      "===========================================\n",
      "5        Karan Garle     90.67        A       \n",
      "3        Rahul Jogadiya  90.00        A       \n",
      "7        Virat Kohli     90.00        A       \n",
      "9        Jaivin Domadiya 87.67        B       \n",
      "2        Neha Mishra     86.33        B       \n",
      "6        Pooja Verma     85.33        B       \n",
      "10       Anita Choudhary 84.00        B       \n",
      "4        Payal Sharma    82.67        B       \n",
      "1        Aman Khatri     78.33        C       \n",
      "8        Ankita Gandhi   67.67        D       \n"
     ]
    }
   ],
   "source": [
    "import mysql.connector\n",
    "\n",
    "conn = mysql.connector.connect(host=\"localhost\", user=\"root\", password=\"amankhatri\", database=\"dbStudent\")\n",
    "cursor = conn.cursor()\n",
    "\n",
    "select_query = \"SELECT rollno, name, percentage, grade FROM tblStudent ORDER BY percentage DESC\"\n",
    "cursor.execute(select_query)\n",
    "\n",
    "student_records = cursor.fetchall()\n",
    "\n",
    "print(\"{:<8} {:<15} {:<12} {:<8}\".format(\"Roll No\", \"Name\", \"Percentage\", \"Grade\"))\n",
    "print(\"=\" * 43)\n",
    "\n",
    "for record in student_records:\n",
    "    rollno, name, percentage, grade = record\n",
    "    print(\"{:<8} {:<15} {:<12} {:<8}\".format(rollno, name, percentage, grade))\n",
    "\n",
    "cursor.close()\n",
    "conn.close()"
   ]
  },
  {
   "cell_type": "markdown",
   "id": "acf61815",
   "metadata": {},
   "source": [
    "<b>13. Print first two toppers.</b>"
   ]
  },
  {
   "cell_type": "code",
   "execution_count": 11,
   "id": "9d204c72",
   "metadata": {},
   "outputs": [
    {
     "name": "stdout",
     "output_type": "stream",
     "text": [
      "Roll No  Name            Percentage   Grade   \n",
      "===========================================\n",
      "5        Karan Garle     90.67        A       \n",
      "3        Rahul Jogadiya  90.00        A       \n"
     ]
    }
   ],
   "source": [
    "import mysql.connector\n",
    "\n",
    "conn = mysql.connector.connect(host=\"localhost\", user=\"root\", password=\"amankhatri\", database=\"dbStudent\")\n",
    "cursor = conn.cursor()\n",
    "\n",
    "select_query = \"SELECT rollno, name, percentage, grade FROM tblStudent ORDER BY percentage DESC LIMIT 2\"\n",
    "cursor.execute(select_query)\n",
    "\n",
    "toppers = cursor.fetchall()\n",
    "\n",
    "print(\"{:<8} {:<15} {:<12} {:<8}\".format(\"Roll No\", \"Name\", \"Percentage\", \"Grade\"))\n",
    "print(\"=\" * 43)\n",
    "\n",
    "for record in toppers:\n",
    "    rollno, name, percentage, grade = record\n",
    "    print(\"{:<8} {:<15} {:<12} {:<8}\".format(rollno, name, percentage, grade))\n",
    "\n",
    "cursor.close()\n",
    "conn.close()"
   ]
  },
  {
   "cell_type": "markdown",
   "id": "3d341487",
   "metadata": {},
   "source": [
    "<b>14.Print girl students who have failed in at least two subjects.</b>"
   ]
  },
  {
   "cell_type": "code",
   "execution_count": 12,
   "id": "240ece7b",
   "metadata": {},
   "outputs": [
    {
     "name": "stdout",
     "output_type": "stream",
     "text": [
      "Roll No  Name           \n",
      "===========================\n"
     ]
    }
   ],
   "source": [
    "import mysql.connector\n",
    "\n",
    "conn = mysql.connector.connect(host=\"localhost\", user=\"root\", password=\"amankhatri\", database=\"dbStudent\")\n",
    "cursor = conn.cursor()\n",
    "\n",
    "select_query = \"\"\"\n",
    "    SELECT rollno, name\n",
    "    FROM tblStudent\n",
    "    WHERE gender = 'Female' AND (cmarks < 40 OR cppmarks < 40 OR pythonmarks < 40)\n",
    "\"\"\"\n",
    "\n",
    "cursor.execute(select_query)\n",
    "\n",
    "failed_girls = cursor.fetchall()\n",
    "\n",
    "print(\"{:<8} {:<15}\".format(\"Roll No\", \"Name\"))\n",
    "print(\"=\" * 27)\n",
    "\n",
    "for record in failed_girls:\n",
    "    rollno, name = record\n",
    "    print(\"{:<8} {:<15}\".format(rollno, name))\n",
    "\n",
    "cursor.close()\n",
    "conn.close()"
   ]
  },
  {
   "cell_type": "markdown",
   "id": "d40405bd",
   "metadata": {},
   "source": [
    "<b>15. Print youngest female topper.</b>"
   ]
  },
  {
   "cell_type": "code",
   "execution_count": 13,
   "id": "8ec67d94",
   "metadata": {},
   "outputs": [
    {
     "name": "stdout",
     "output_type": "stream",
     "text": [
      "Roll No  Name           \n",
      "===========================\n",
      "4        Payal Sharma   \n"
     ]
    }
   ],
   "source": [
    "import mysql.connector\n",
    "\n",
    "conn = mysql.connector.connect(host=\"localhost\", user=\"root\", password=\"amankhatri\", database=\"dbStudent\")\n",
    "cursor = conn.cursor()\n",
    "\n",
    "select_query = \"\"\"\n",
    "    SELECT rollno, name\n",
    "    FROM tblStudent\n",
    "    WHERE gender = 'Female'\n",
    "    ORDER BY birthdate ASC, percentage DESC\n",
    "    LIMIT 1\n",
    "\"\"\"\n",
    "\n",
    "cursor.execute(select_query)\n",
    "\n",
    "youngest_female_topper = cursor.fetchone()\n",
    "\n",
    "print(\"{:<8} {:<15}\".format(\"Roll No\", \"Name\"))\n",
    "print(\"=\" * 27)\n",
    "\n",
    "rollno, name = youngest_female_topper\n",
    "print(\"{:<8} {:<15}\".format(rollno, name))\n",
    "\n",
    "cursor.close()\n",
    "conn.close()"
   ]
  },
  {
   "cell_type": "markdown",
   "id": "77ac08d3",
   "metadata": {},
   "source": [
    "<b>16. Print oldest male topper.</b>\n"
   ]
  },
  {
   "cell_type": "code",
   "execution_count": 14,
   "id": "35537be1",
   "metadata": {},
   "outputs": [
    {
     "name": "stdout",
     "output_type": "stream",
     "text": [
      "Roll No  Name           \n",
      "===========================\n",
      "1        Aman Khatri    \n"
     ]
    }
   ],
   "source": [
    "import mysql.connector\n",
    "\n",
    "conn = mysql.connector.connect(host=\"localhost\", user=\"root\", password=\"amankhatri\", database=\"dbStudent\")\n",
    "cursor = conn.cursor()\n",
    "\n",
    "select_query = \"\"\"\n",
    "    SELECT rollno, name\n",
    "    FROM tblStudent\n",
    "    WHERE gender = 'Male'\n",
    "    ORDER BY birthdate DESC, percentage DESC\n",
    "    LIMIT 1\n",
    "\"\"\"\n",
    "\n",
    "cursor.execute(select_query)\n",
    "\n",
    "oldest_male_topper = cursor.fetchone()\n",
    "\n",
    "print(\"{:<8} {:<15}\".format(\"Roll No\", \"Name\"))\n",
    "print(\"=\" * 27)\n",
    "\n",
    "rollno, name = oldest_male_topper\n",
    "print(\"{:<8} {:<15}\".format(rollno, name))\n",
    "\n",
    "cursor.close()\n",
    "conn.close()"
   ]
  },
  {
   "cell_type": "markdown",
   "id": "cbfb6cd2",
   "metadata": {},
   "source": [
    "<b>17. Change birth month to January who were born in December.</b>"
   ]
  },
  {
   "cell_type": "code",
   "execution_count": 16,
   "id": "a18200b7",
   "metadata": {},
   "outputs": [],
   "source": [
    "import mysql.connector\n",
    "\n",
    "conn = mysql.connector.connect(host=\"localhost\", user=\"root\", password=\"amankhatri\", database=\"dbStudent\")\n",
    "cursor = conn.cursor()\n",
    "\n",
    "update_query = \"\"\"\n",
    "    UPDATE tblStudent\n",
    "    SET birthdate = DATE_ADD(birthdate, INTERVAL 1 MONTH)\n",
    "    WHERE MONTH(birthdate) = 12\n",
    "\"\"\"\n",
    "\n",
    "cursor.execute(update_query)\n",
    "\n",
    "conn.commit()\n",
    "\n",
    "cursor.close()\n",
    "conn.close()"
   ]
  },
  {
   "cell_type": "markdown",
   "id": "bc721455",
   "metadata": {},
   "source": [
    "<b>18. Change birthdate of topper student as 01-01-2000.</b>"
   ]
  },
  {
   "cell_type": "code",
   "execution_count": 17,
   "id": "ce6c69a5",
   "metadata": {},
   "outputs": [],
   "source": [
    "import mysql.connector\n",
    "\n",
    "conn = mysql.connector.connect(\n",
    "    host=\"localhost\",\n",
    "    user=\"root\",\n",
    "    password=\"amankhatri\",\n",
    "    database=\"dbStudent\"\n",
    ")\n",
    "\n",
    "cursor = conn.cursor()\n",
    "\n",
    "select_query = \"SELECT MAX(percentage) FROM tblStudent\"\n",
    "\n",
    "cursor.execute(select_query)\n",
    "max_percentage = cursor.fetchone()[0]\n",
    "\n",
    "update_query = \"UPDATE tblStudent SET birthdate = '2000-01-01' WHERE percentage = %s\"\n",
    "\n",
    "cursor.execute(update_query, (max_percentage,))\n",
    "\n",
    "conn.commit()\n",
    "\n",
    "cursor.close()\n",
    "conn.close()"
   ]
  },
  {
   "cell_type": "markdown",
   "id": "acf5e9e2",
   "metadata": {},
   "source": [
    "<b>19. List all students whose birthdate is yet to come in 2023.</b>"
   ]
  },
  {
   "cell_type": "code",
   "execution_count": 18,
   "id": "6b008eab",
   "metadata": {},
   "outputs": [
    {
     "name": "stdout",
     "output_type": "stream",
     "text": [
      "Roll No  Name            Birthdate   \n",
      "===================================\n"
     ]
    }
   ],
   "source": [
    "import mysql.connector\n",
    "\n",
    "conn = mysql.connector.connect(\n",
    "    host=\"localhost\",\n",
    "    user=\"root\",\n",
    "    password=\"amankhatri\",\n",
    "    database=\"dbStudent\"\n",
    ")\n",
    "\n",
    "cursor = conn.cursor()\n",
    "\n",
    "select_students_query = \"\"\"\n",
    "    SELECT rollno, name, birthdate\n",
    "    FROM tblStudent\n",
    "    WHERE YEAR(birthdate) = 2023\n",
    "\"\"\"\n",
    "\n",
    "cursor.execute(select_students_query)\n",
    "\n",
    "results = cursor.fetchall()\n",
    "\n",
    "print(\"{:<8} {:<15} {:<12}\".format(\"Roll No\", \"Name\", \"Birthdate\"))\n",
    "print(\"=\" * 35)\n",
    "\n",
    "for row in results:\n",
    "    rollno, name, birthdate = row\n",
    "    print(\"{:<8} {:<15} {:<12}\".format(rollno, name, birthdate))\n",
    "\n",
    "cursor.close()\n",
    "conn.close()"
   ]
  },
  {
   "cell_type": "markdown",
   "id": "35713b73",
   "metadata": {},
   "source": [
    "<b>20. Create a stored procedure for inserting row in table. Show usage of it.</b>"
   ]
  },
  {
   "cell_type": "code",
   "execution_count": null,
   "id": "60b73e33",
   "metadata": {},
   "outputs": [],
   "source": [
    "DELIMITER //\n",
    "\n",
    "CREATE PROCEDURE InsertStudent(\n",
    "     IN p_rollno INT,\n",
    "     IN p_name VARCHAR(255),\n",
    "     IN p_birthdate DATE,\n",
    "     IN p_gender VARCHAR(10),\n",
    "     IN p_cmarks INT,\n",
    "     IN p_cppmarks INT,\n",
    "     IN p_pythonmarks INT\n",
    ")\n",
    "BEGIN\n",
    "     INSERT INTO tblStudent(rollno, name, birthdate, gender, cmarks, cppmarks, pythonmarks)\n",
    "     VALUES(p_rollno, p_name, p_birthdate, p_gender, p_cmarks, p_cppmarks, p_pythonmarks);\n",
    "END;\n",
    "//\n",
    "\n",
    "DELIMITER ;"
   ]
  },
  {
   "cell_type": "code",
   "execution_count": 23,
   "id": "8622127a",
   "metadata": {},
   "outputs": [
    {
     "name": "stdout",
     "output_type": "stream",
     "text": [
      "Student data inserted\n"
     ]
    }
   ],
   "source": [
    "import mysql.connector\n",
    "\n",
    "conn = mysql.connector.connect(\n",
    "    host=\"localhost\",\n",
    "    user=\"root\",\n",
    "    password=\"amankhatri\",\n",
    "    database=\"dbStudent\"\n",
    ")\n",
    "\n",
    "cursor = conn.cursor()\n",
    "\n",
    "rollno = 11\n",
    "name = \"Rohit Sharma\"\n",
    "birthdate = \"2000-01-01\"\n",
    "gender = \"Male\"\n",
    "cmarks = 80\n",
    "cppmarks = 80\n",
    "pythonmarks = 80\n",
    "\n",
    "insert_student_query = \"CALL InsertStudent(%s, %s, %s, %s, %s, %s, %s)\"\n",
    "\n",
    "cursor.execute(insert_student_query, (rollno, name, birthdate, gender, cmarks, cppmarks, pythonmarks))\n",
    "print(\"Student data inserted\")\n",
    "conn.commit()\n",
    "\n",
    "cursor.close()\n",
    "conn.close()"
   ]
  },
  {
   "cell_type": "markdown",
   "id": "07159003",
   "metadata": {},
   "source": [
    "<b>21. Create a stored procedure for fetching only female student rows. Show usage of it.</b>"
   ]
  },
  {
   "cell_type": "code",
   "execution_count": null,
   "id": "793aff1f",
   "metadata": {},
   "outputs": [],
   "source": [
    "DELIMITER //\n",
    "\n",
    "CREATE PROCEDURE GetFemaleStudents()\n",
    "BEGIN\n",
    "    SELECT * FROM tblStudent WHERE gender = 'Female';\n",
    "END;\n",
    "//\n",
    "\n",
    "DELIMITER ;"
   ]
  },
  {
   "cell_type": "code",
   "execution_count": 24,
   "id": "1d184417",
   "metadata": {},
   "outputs": [
    {
     "name": "stdout",
     "output_type": "stream",
     "text": [
      "(2, 'Neha Mishra', datetime.date(2000, 3, 28), 'Female', 75, 89, 95, 259, Decimal('86.33'), 'B')\n",
      "(4, 'Payal Sharma', datetime.date(1999, 4, 25), 'Female', 81, 89, 78, 248, Decimal('82.67'), 'B')\n",
      "(6, 'Pooja Verma', datetime.date(1999, 7, 18), 'Female', 84, 87, 85, 256, Decimal('85.33'), 'B')\n",
      "(8, 'Ankita Gandhi', datetime.date(2000, 5, 8), 'Female', 71, 60, 72, 203, Decimal('67.67'), 'D')\n",
      "(10, 'Anita Choudhary', datetime.date(2000, 1, 5), 'Female', 82, 83, 87, 252, Decimal('84.00'), 'B')\n"
     ]
    }
   ],
   "source": [
    "import mysql.connector\n",
    "\n",
    "\n",
    "conn = mysql.connector.connect(\n",
    "    host=\"localhost\",\n",
    "    user=\"root\",\n",
    "    password=\"amankhatri\",\n",
    "    database=\"dbStudent\"\n",
    ")\n",
    "\n",
    "cursor = conn.cursor()\n",
    "cursor.callproc(\"GetFemaleStudents\")\n",
    "for result in cursor.stored_results():\n",
    "    details = result.fetchall()\n",
    "   \n",
    "\n",
    "\n",
    "for row in details:\n",
    "    print(row)\n",
    "\n",
    "cursor.close()\n",
    "conn.close()"
   ]
  },
  {
   "cell_type": "markdown",
   "id": "4abd2049",
   "metadata": {},
   "source": [
    "<b>22. Create a stored procedure for fetching student records having grade as a specific parameter given by user. Show usage of it.</b>"
   ]
  },
  {
   "cell_type": "code",
   "execution_count": null,
   "id": "ad506ece",
   "metadata": {},
   "outputs": [],
   "source": [
    "DELIMITER //\n",
    "\n",
    "CREATE PROCEDURE GetStudentsByGrade(IN p_grade VARCHAR(2))\n",
    "BEGIN\n",
    "     SELECT * FROM tblStudent WHERE grade = p_grade;\n",
    "END;\n",
    "//"
   ]
  },
  {
   "cell_type": "code",
   "execution_count": 26,
   "id": "bef24cbd",
   "metadata": {},
   "outputs": [
    {
     "name": "stdout",
     "output_type": "stream",
     "text": [
      "Enter grade :A\n",
      "(3, 'Rahul Jogadiya', datetime.date(2001, 7, 27), 'Male', 90, 92, 88, 270, Decimal('90.00'), 'A')\n",
      "(5, 'Karan Garle', datetime.date(2000, 1, 1), 'Male', 95, 83, 94, 272, Decimal('90.67'), 'A')\n",
      "(7, 'Virat Kohli', datetime.date(1996, 11, 20), 'Male', 90, 92, 88, 270, Decimal('90.00'), 'A')\n"
     ]
    }
   ],
   "source": [
    "import mysql.connector\n",
    "\n",
    "conn = mysql.connector.connect(\n",
    "    host=\"localhost\",\n",
    "    user=\"root\",\n",
    "    password=\"amankhatri\",\n",
    "    database=\"dbStudent\"\n",
    ")\n",
    "\n",
    "cursor = conn.cursor()\n",
    "g = input(\"Enter grade :\")\n",
    "cursor.callproc(\"GetStudentsByGrade\",[g])\n",
    "\n",
    "for result in cursor.stored_results():\n",
    "    details = result.fetchall()\n",
    "\n",
    "for row in details:\n",
    "    print(row)\n",
    "\n",
    "cursor.close()\n",
    "conn.close()"
   ]
  }
 ],
 "metadata": {
  "kernelspec": {
   "display_name": "Python 3 (ipykernel)",
   "language": "python",
   "name": "python3"
  },
  "language_info": {
   "codemirror_mode": {
    "name": "ipython",
    "version": 3
   },
   "file_extension": ".py",
   "mimetype": "text/x-python",
   "name": "python",
   "nbconvert_exporter": "python",
   "pygments_lexer": "ipython3",
   "version": "3.10.9"
  }
 },
 "nbformat": 4,
 "nbformat_minor": 5
}
